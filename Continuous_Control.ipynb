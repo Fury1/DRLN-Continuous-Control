{
 "cells": [
  {
   "cell_type": "markdown",
   "metadata": {},
   "source": [
    "# Continuous Control\n",
    "\n",
    "---\n",
    "\n",
    "In this notebook, you will learn how to use the Unity ML-Agents environment for the second project of the [Deep Reinforcement Learning Nanodegree](https://www.udacity.com/course/deep-reinforcement-learning-nanodegree--nd893) program.\n",
    "\n",
    "### 1. Start the Environment\n",
    "\n",
    "We begin by importing the necessary packages.  If the code cell below returns an error, please revisit the project instructions to double-check that you have installed [Unity ML-Agents](https://github.com/Unity-Technologies/ml-agents/blob/master/docs/Installation.md) and [NumPy](http://www.numpy.org/)."
   ]
  },
  {
   "cell_type": "code",
   "execution_count": 1,
   "metadata": {},
   "outputs": [],
   "source": [
    "from unityagents import UnityEnvironment\n",
    "import numpy as np"
   ]
  },
  {
   "cell_type": "markdown",
   "metadata": {},
   "source": [
    "Next, we will start the environment!  **_Before running the code cell below_**, change the `file_name` parameter to match the location of the Unity environment that you downloaded.\n",
    "\n",
    "- **Mac**: `\"path/to/Reacher.app\"`\n",
    "- **Windows** (x86): `\"path/to/Reacher_Windows_x86/Reacher.exe\"`\n",
    "- **Windows** (x86_64): `\"path/to/Reacher_Windows_x86_64/Reacher.exe\"`\n",
    "- **Linux** (x86): `\"path/to/Reacher_Linux/Reacher.x86\"`\n",
    "- **Linux** (x86_64): `\"path/to/Reacher_Linux/Reacher.x86_64\"`\n",
    "- **Linux** (x86, headless): `\"path/to/Reacher_Linux_NoVis/Reacher.x86\"`\n",
    "- **Linux** (x86_64, headless): `\"path/to/Reacher_Linux_NoVis/Reacher.x86_64\"`\n",
    "\n",
    "For instance, if you are using a Mac, then you downloaded `Reacher.app`.  If this file is in the same folder as the notebook, then the line below should appear as follows:\n",
    "```\n",
    "env = UnityEnvironment(file_name=\"Reacher.app\")\n",
    "```"
   ]
  },
  {
   "cell_type": "code",
   "execution_count": 2,
   "metadata": {},
   "outputs": [
    {
     "name": "stderr",
     "output_type": "stream",
     "text": [
      "INFO:unityagents:\n",
      "'Academy' started successfully!\n",
      "Unity Academy name: Academy\n",
      "        Number of Brains: 1\n",
      "        Number of External Brains : 1\n",
      "        Lesson number : 0\n",
      "        Reset Parameters :\n",
      "\t\tgoal_speed -> 1.0\n",
      "\t\tgoal_size -> 5.0\n",
      "Unity brain name: ReacherBrain\n",
      "        Number of Visual Observations (per agent): 0\n",
      "        Vector Observation space type: continuous\n",
      "        Vector Observation space size (per agent): 33\n",
      "        Number of stacked Vector Observation: 1\n",
      "        Vector Action space type: continuous\n",
      "        Vector Action space size (per agent): 4\n",
      "        Vector Action descriptions: , , , \n"
     ]
    }
   ],
   "source": [
    "env = UnityEnvironment(file_name='Reacher_Windows_x86_64\\\\Reacher.exe')"
   ]
  },
  {
   "cell_type": "markdown",
   "metadata": {},
   "source": [
    "Environments contain **_brains_** which are responsible for deciding the actions of their associated agents. Here we check for the first brain available, and set it as the default brain we will be controlling from Python."
   ]
  },
  {
   "cell_type": "code",
   "execution_count": 3,
   "metadata": {},
   "outputs": [],
   "source": [
    "# get the default brain (there is only one brain in this environment)\n",
    "brain_name = env.brain_names[0]\n",
    "brain = env.brains[brain_name]"
   ]
  },
  {
   "cell_type": "markdown",
   "metadata": {},
   "source": [
    "### 2. Examine the State and Action Spaces\n",
    "\n",
    "In this environment, a double-jointed arm can move to target locations. A reward of `+0.1` is provided for each step that the agent's hand is in the goal location. Thus, the goal of your agent is to maintain its position at the target location for as many time steps as possible.\n",
    "\n",
    "The observation space consists of `33` variables corresponding to position, rotation, velocity, and angular velocities of the arm.  Each action is a vector with four numbers, corresponding to torque applicable to two joints.  Every entry in the action vector must be a number between `-1` and `1`.\n",
    "\n",
    "Run the code cell below to print some information about the environment."
   ]
  },
  {
   "cell_type": "code",
   "execution_count": 4,
   "metadata": {},
   "outputs": [
    {
     "name": "stdout",
     "output_type": "stream",
     "text": [
      "Number of agents: 20\n",
      "Size of each action: 4\n",
      "There are 20 agents. Each observes a state with length: 33\n",
      "The state for the first agent looks like: [ 0.00000000e+00 -4.00000000e+00  0.00000000e+00  1.00000000e+00\n",
      " -0.00000000e+00 -0.00000000e+00 -4.37113883e-08  0.00000000e+00\n",
      "  0.00000000e+00  0.00000000e+00  0.00000000e+00  0.00000000e+00\n",
      "  0.00000000e+00  0.00000000e+00 -1.00000000e+01  0.00000000e+00\n",
      "  1.00000000e+00 -0.00000000e+00 -0.00000000e+00 -4.37113883e-08\n",
      "  0.00000000e+00  0.00000000e+00  0.00000000e+00  0.00000000e+00\n",
      "  0.00000000e+00  0.00000000e+00  5.75471878e+00 -1.00000000e+00\n",
      "  5.55726624e+00  0.00000000e+00  1.00000000e+00  0.00000000e+00\n",
      " -1.68164849e-01]\n",
      "Multi agent environment state shape: (20, 33)\n"
     ]
    }
   ],
   "source": [
    "# Reset the environment, get the environment info object\n",
    "env_info = env.reset(train_mode=True)[brain_name]\n",
    "\n",
    "# number of agents\n",
    "num_agents = len(env_info.agents)\n",
    "print('Number of agents:', num_agents)\n",
    "\n",
    "# size of each action\n",
    "action_size = brain.vector_action_space_size\n",
    "print('Size of each action:', action_size)\n",
    "\n",
    "# examine the state space \n",
    "states = env_info.vector_observations\n",
    "state_size = states.shape[1]\n",
    "print('There are {} agents. Each observes a state with length: {}'.format(states.shape[0], state_size))\n",
    "print('The state for the first agent looks like:', states[0])\n",
    "print('Multi agent environment state shape: {}'.format(states.shape))"
   ]
  },
  {
   "cell_type": "markdown",
   "metadata": {},
   "source": [
    "### 3. Take Random Actions in the Environment\n",
    "\n",
    "In the next code cell, you will learn how to use the Python API to control the agent and receive feedback from the environment.\n",
    "\n",
    "Once this cell is executed, you will watch the agent's performance, if it selects an action at random with each time step.  A window should pop up that allows you to observe the agent, as it moves through the environment.  \n",
    "\n",
    "Of course, as part of the project, you'll have to change the code so that the agent is able to use its experience to gradually choose better actions when interacting with the environment!"
   ]
  },
  {
   "cell_type": "code",
   "execution_count": 5,
   "metadata": {},
   "outputs": [],
   "source": [
    "# NOTE: Run this if you want to see random actions taken in the environment being used\n",
    "# env_info = env.reset(train_mode=False)[brain_name]     # reset the environment    \n",
    "# states = env_info.vector_observations                  # get the current state (for each agent)\n",
    "# scores = np.zeros(num_agents)                          # initialize the score (for each agent)\n",
    "# while True:\n",
    "#     actions = np.random.randn(num_agents, action_size) # select an action (for each agent)\n",
    "#     actions = np.clip(actions, -1, 1)                  # all actions between -1 and 1\n",
    "#     env_info = env.step(actions)[brain_name]           # send all actions to tne environment\n",
    "#     next_states = env_info.vector_observations         # get next state (for each agent)\n",
    "#     rewards = env_info.rewards                         # get reward (for each agent)\n",
    "#     dones = env_info.local_done                        # see if episode finished\n",
    "#     scores += env_info.rewards                         # update the score (for each agent)\n",
    "#     states = next_states                               # roll over states to next time step\n",
    "#     if np.any(dones):                                  # exit loop if episode finished\n",
    "#         break\n",
    "# print('Total score (averaged over agents) this episode: {}'.format(np.mean(scores)))"
   ]
  },
  {
   "cell_type": "markdown",
   "metadata": {},
   "source": [
    "When finished, you can close the environment."
   ]
  },
  {
   "cell_type": "code",
   "execution_count": 6,
   "metadata": {},
   "outputs": [],
   "source": [
    "# Close out the environment\n",
    "# env.close()"
   ]
  },
  {
   "cell_type": "markdown",
   "metadata": {},
   "source": [
    "### 4. It's Your Turn!\n",
    "\n",
    "Now it's your turn to train your own agent to solve the environment!  When training the environment, set `train_mode=True`, so that the line for resetting the environment looks like the following:\n",
    "```python\n",
    "env_info = env.reset(train_mode=True)[brain_name]\n",
    "```"
   ]
  },
  {
   "cell_type": "markdown",
   "metadata": {},
   "source": [
    "### 5. DDPG Implementation\n",
    "Train the intelligent agent."
   ]
  },
  {
   "cell_type": "code",
   "execution_count": 7,
   "metadata": {
    "scrolled": true
   },
   "outputs": [
    {
     "name": "stderr",
     "output_type": "stream",
     "text": [
      "C:\\Users\\Fury\\Miniconda3\\envs\\drlnd\\lib\\site-packages\\torch\\nn\\functional.py:995: UserWarning: nn.functional.tanh is deprecated. Use torch.tanh instead.\n",
      "  warnings.warn(\"nn.functional.tanh is deprecated. Use torch.tanh instead.\")\n"
     ]
    },
    {
     "name": "stdout",
     "output_type": "stream",
     "text": [
      "Episode 100\tAgent Average Score: 36.79\tEnvironment Average Score (100 episodes): 18.84\n",
      "Episode 200\tAgent Average Score: 39.10\tEnvironment Average Score (100 episodes): 38.62\n",
      "Environment solved in 200 episodes!\n",
      "Average environment score (100 episodes): 38.61557913687453\n",
      "Models saved!\n",
      "Episode 300\tAgent Average Score: 39.29\tEnvironment Average Score (100 episodes): 39.26\n",
      "Improved model found! Models saved.\n",
      "Episode 400\tAgent Average Score: 39.33\tEnvironment Average Score (100 episodes): 39.31\n",
      "Improved model found! Models saved.\n"
     ]
    }
   ],
   "source": [
    "from unityagents import UnityEnvironment\n",
    "import random\n",
    "import torch\n",
    "import numpy as np\n",
    "from collections import deque\n",
    "import matplotlib.pyplot as plt\n",
    "%matplotlib inline\n",
    "\n",
    "from ddpg_agent import Agent\n",
    "\n",
    "n_episodes = 400\n",
    "max_t = 1000\n",
    "window_size = 100\n",
    "add_noise = False # (bool) turn noise modeling on or off\n",
    "\n",
    "\n",
    "def ddpg(n_episodes=n_episodes, max_t=max_t, window_size=window_size, add_noise=add_noise):\n",
    "    \"\"\"Interact with the environment and learn with an agent\n",
    "    \n",
    "    Note: This implementation works with an environment that has 20 agents running in parallel.\n",
    "          States and Actions are tensors of (agents, states/actions) or better thought of as\n",
    "          (batch_size=20, *values*) for inference purposes. While traning it consists of\n",
    "          the normal (training_batch_hyperparameter, *inputs*)\n",
    "\n",
    "    \"\"\"\n",
    "    solved = False # flag for solved environment\n",
    "    best_score = 0 # keep track of the best score\n",
    "    \n",
    "    # Agent that will be interacting with the environment\n",
    "    agent = Agent(state_size=state_size, action_size=action_size, random_seed=0)\n",
    "    # Scores window for each episode, each score is an average of all agents for one episode\n",
    "    scores_window = deque(maxlen=window_size)\n",
    "    episode_scores = [] # record of all episode scores\n",
    "    \n",
    "    for i_episode in range(1, n_episodes+1):\n",
    "        env_info = env.reset(train_mode=True)[brain_name] # reset the environment at the beginning of the episode (train mode)\n",
    "        states = env_info.vector_observations # get the state (for each agent) (batch, states)\n",
    "        agent.reset() # reset the agent modeled noise\n",
    "        scores = np.zeros(num_agents) # scores array (score for each agent)\n",
    "        \n",
    "        for t in range(max_t):\n",
    "            actions = agent.act(states, add_noise=add_noise) # get actions to take for each agent (for each agent)\n",
    "            env_info = env.step(actions)[brain_name]         # take an action in the environment (for each agent)\n",
    "            next_states = env_info.vector_observations       # get next states (for each agent)\n",
    "            rewards = env_info.rewards                       # get rewards (for each agent)  \n",
    "            dones = env_info.local_done                      # get episode termination status (for each agent)\n",
    "            agent.step(states, actions, rewards, next_states, dones) # update the agent memory with the experiences and learn\n",
    "            agent.update_t(t)\n",
    "            states = next_states # move to next time step\n",
    "            scores += rewards # record the rewards for each action (for each agent)\n",
    "            \n",
    "            # Check if any agent has terminated to end the episode\n",
    "            if any(dones):\n",
    "                break\n",
    "        \n",
    "        # Average all the agent scores and add to the scores queue window, and episode scores list\n",
    "        average_agent_score = np.mean(scores)\n",
    "        scores_window.append(average_agent_score)\n",
    "        episode_scores.append(average_agent_score)\n",
    "        \n",
    "        # Compute the environment average score\n",
    "        environment_average = np.mean(scores_window)\n",
    "        \n",
    "        # Print some score stats\n",
    "        print('\\rEpisode {}\\tAgent Average Score: {:.2f}'.format(i_episode, average_agent_score), end=\"\")\n",
    "        \n",
    "        if i_episode % window_size == 0:\n",
    "            print('\\tEnvironment Average Score (100 episodes): {:.2f}'.format(environment_average))\n",
    "        \n",
    "            # See if we have passed the environment solved standard\n",
    "            if environment_average >= 30.0 and len(scores_window) == 100 and not solved:\n",
    "                print(\"Environment solved in {} episodes!\".format(i_episode))\n",
    "                print(\"Average environment score (100 episodes): {}\".format(environment_average))\n",
    "\n",
    "                # Save the model weights\n",
    "                torch.save(agent.actor_local.state_dict(), 'checkpoint_actor.pth')\n",
    "                torch.save(agent.critic_local.state_dict(), 'checkpoint_critic.pth')\n",
    "                print('Models saved!')\n",
    "                \n",
    "                # Set some flags for further training\n",
    "                best_score = environment_average\n",
    "                solved = True\n",
    "                continue\n",
    "            \n",
    "            # Find the BEST model if the environment is solved\n",
    "            if solved and environment_average > best_score:\n",
    "                # Save the model weights\n",
    "                torch.save(agent.actor_local.state_dict(), 'checkpoint_actor.pth')\n",
    "                torch.save(agent.critic_local.state_dict(), 'checkpoint_critic.pth')\n",
    "                best_score = average_agent_score\n",
    "                print('Improved model found! Models saved.')\n",
    "\n",
    "    return episode_scores\n",
    "\n",
    "\n",
    "scores = ddpg()\n",
    "\n",
    "# Close out the environment\n",
    "env.close()"
   ]
  },
  {
   "cell_type": "code",
   "execution_count": 8,
   "metadata": {
    "scrolled": true
   },
   "outputs": [
    {
     "data": {
      "image/png": "[encoded data removed]",
      "text/plain": [
       "<Figure size 432x288 with 1 Axes>"
      ]
     },
     "metadata": {
      "needs_background": "light"
     },
     "output_type": "display_data"
    }
   ],
   "source": [
    "# Plot the training results\n",
    "fig = plt.figure()\n",
    "ax = fig.add_subplot(111)\n",
    "plt.plot(np.arange(1, len(scores)+1), scores)\n",
    "plt.ylabel('Score')\n",
    "plt.xlabel('Episode #')\n",
    "plt.show()"
   ]
  },
  {
   "cell_type": "code",
   "execution_count": 1,
   "metadata": {},
   "outputs": [
    {
     "name": "stderr",
     "output_type": "stream",
     "text": [
      "INFO:unityagents:\n",
      "'Academy' started successfully!\n",
      "Unity Academy name: Academy\n",
      "        Number of Brains: 1\n",
      "        Number of External Brains : 1\n",
      "        Lesson number : 0\n",
      "        Reset Parameters :\n",
      "\t\tgoal_speed -> 1.0\n",
      "\t\tgoal_size -> 5.0\n",
      "Unity brain name: ReacherBrain\n",
      "        Number of Visual Observations (per agent): 0\n",
      "        Vector Observation space type: continuous\n",
      "        Vector Observation space size (per agent): 33\n",
      "        Number of stacked Vector Observation: 1\n",
      "        Vector Action space type: continuous\n",
      "        Vector Action space size (per agent): 4\n",
      "        Vector Action descriptions: , , , \n",
      "C:\\Users\\Fury\\Miniconda3\\envs\\drlnd\\lib\\site-packages\\torch\\nn\\functional.py:995: UserWarning: nn.functional.tanh is deprecated. Use torch.tanh instead.\n",
      "  warnings.warn(\"nn.functional.tanh is deprecated. Use torch.tanh instead.\")\n"
     ]
    },
    {
     "name": "stdout",
     "output_type": "stream",
     "text": [
      "Average score from all agents: 39.5579991158098\n"
     ]
    }
   ],
   "source": [
    "# NOTE: Restart the python kernel if there is a problem running this after running the above code\n",
    "# Inference so we can see the model in action\n",
    "import torch\n",
    "from ddpg_agent import Agent\n",
    "from unityagents import UnityEnvironment\n",
    "import numpy as np\n",
    "import random\n",
    "\n",
    "env = UnityEnvironment(file_name='Reacher_Windows_x86_64\\\\Reacher.exe')\n",
    "brain_name = env.brain_names[0]\n",
    "brain = env.brains[brain_name]\n",
    "env_info = env.reset(train_mode=False)[brain_name]     # reset the environment (inference mode)\n",
    "\n",
    "num_agents = len(env_info.agents)\n",
    "action_size = brain.vector_action_space_size\n",
    "states = env_info.vector_observations\n",
    "state_size = states.shape[1]\n",
    "\n",
    "# Load the trained weights\n",
    "agent = Agent(state_size=state_size, action_size=action_size, random_seed=random.random())\n",
    "agent.actor_local.load_state_dict(torch.load('checkpoint_actor.pth'))\n",
    "\n",
    "\n",
    "states = env_info.vector_observations                  # get state state (for each agent)\n",
    "scores = np.zeros(num_agents)                          # record scores (for each agent)\n",
    "\n",
    "while True:\n",
    "    actions = agent.act(states, add_noise=False)       # get actions to take for each agent (for each agent)\n",
    "    env_info = env.step(actions)[brain_name]           # take an action in the environment (for each agent)\n",
    "    next_states = env_info.vector_observations         # get next state (for each agent)\n",
    "    rewards = env_info.rewards                         # get reward (for each agent)\n",
    "    dones = env_info.local_done                        # get episode termination status (for each agent)\n",
    "    scores += env_info.rewards                         # record the rewards for each action (for each agent)\n",
    "    states = next_states                               # move to the next time step\n",
    "    \n",
    "    if np.any(dones):                                  # check if any agent has terminated to end the episode\n",
    "        break\n",
    "\n",
    "print('Average score from all agents: {}'.format(np.mean(scores)))\n",
    "\n",
    "# Close out the environment\n",
    "env.close()"
   ]
  }
 ],
 "metadata": {
  "kernelspec": {
   "display_name": "drlnd",
   "language": "python",
   "name": "drlnd"
  },
  "language_info": {
   "codemirror_mode": {
    "name": "ipython",
    "version": 3
   },
   "file_extension": ".py",
   "mimetype": "text/x-python",
   "name": "python",
   "nbconvert_exporter": "python",
   "pygments_lexer": "ipython3",
   "version": "3.6.6"
  }
 },
 "nbformat": 4,
 "nbformat_minor": 2
}
